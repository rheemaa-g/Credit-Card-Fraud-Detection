{
 "cells": [
  {
   "cell_type": "markdown",
   "id": "1e6836ee",
   "metadata": {},
   "source": [
    "# Credi Card Fraud Detection\n",
    "\n",
    "### Source: Kaggle\n",
    "          https://www.kaggle.com/mlg-ulb/creditcardfraud\n",
    "\n",
    "\n",
    "### Contents\n",
    "    1. Loading the data\n",
    "    2. Understanding the data\n",
    "    3. Data Preparation\n",
    "       A] Data Imputation\n",
    "       B] Feature Selection\n",
    "    4. Balancing the Target\n",
    "       A] Undersampling\n",
    "    5. Model Selection\n",
    "    6. Initial Model \n",
    "       A] Modeling\n",
    "       B] Model Evaluation\n",
    "    7. Hyperparameter Tuning\n",
    "    8. Final Prediction"
   ]
  },
  {
   "cell_type": "markdown",
   "id": "08d5ea91",
   "metadata": {},
   "source": [
    "## Loading the data"
   ]
  },
  {
   "cell_type": "code",
   "execution_count": 1,
   "id": "39e49373",
   "metadata": {},
   "outputs": [
    {
     "data": {
      "text/plain": [
       "(284807, 31)"
      ]
     },
     "execution_count": 1,
     "metadata": {},
     "output_type": "execute_result"
    }
   ],
   "source": [
    "import pandas as pd\n",
    "\n",
    "cc = pd.read_csv(\"creditcard.csv\")\n",
    "cc.shape"
   ]
  },
  {
   "cell_type": "code",
   "execution_count": 2,
   "id": "21b8f934",
   "metadata": {},
   "outputs": [
    {
     "data": {
      "text/plain": [
       "Index(['Time', 'V1', 'V2', 'V3', 'V4', 'V5', 'V6', 'V7', 'V8', 'V9', 'V10',\n",
       "       'V11', 'V12', 'V13', 'V14', 'V15', 'V16', 'V17', 'V18', 'V19', 'V20',\n",
       "       'V21', 'V22', 'V23', 'V24', 'V25', 'V26', 'V27', 'V28', 'Amount',\n",
       "       'Class'],\n",
       "      dtype='object')"
      ]
     },
     "execution_count": 2,
     "metadata": {},
     "output_type": "execute_result"
    }
   ],
   "source": [
    "cc.columns"
   ]
  },
  {
   "cell_type": "code",
   "execution_count": 3,
   "id": "ebc7bc5d",
   "metadata": {},
   "outputs": [
    {
     "name": "stdout",
     "output_type": "stream",
     "text": [
      "<class 'pandas.core.frame.DataFrame'>\n",
      "RangeIndex: 284807 entries, 0 to 284806\n",
      "Data columns (total 31 columns):\n",
      " #   Column  Non-Null Count   Dtype  \n",
      "---  ------  --------------   -----  \n",
      " 0   Time    284807 non-null  float64\n",
      " 1   V1      284807 non-null  float64\n",
      " 2   V2      284807 non-null  float64\n",
      " 3   V3      284807 non-null  float64\n",
      " 4   V4      284807 non-null  float64\n",
      " 5   V5      284807 non-null  float64\n",
      " 6   V6      284807 non-null  float64\n",
      " 7   V7      284807 non-null  float64\n",
      " 8   V8      284807 non-null  float64\n",
      " 9   V9      284807 non-null  float64\n",
      " 10  V10     284807 non-null  float64\n",
      " 11  V11     284807 non-null  float64\n",
      " 12  V12     284807 non-null  float64\n",
      " 13  V13     284807 non-null  float64\n",
      " 14  V14     284807 non-null  float64\n",
      " 15  V15     284807 non-null  float64\n",
      " 16  V16     284807 non-null  float64\n",
      " 17  V17     284807 non-null  float64\n",
      " 18  V18     284807 non-null  float64\n",
      " 19  V19     284807 non-null  float64\n",
      " 20  V20     284807 non-null  float64\n",
      " 21  V21     284807 non-null  float64\n",
      " 22  V22     284807 non-null  float64\n",
      " 23  V23     284807 non-null  float64\n",
      " 24  V24     284807 non-null  float64\n",
      " 25  V25     284807 non-null  float64\n",
      " 26  V26     284807 non-null  float64\n",
      " 27  V27     284807 non-null  float64\n",
      " 28  V28     284807 non-null  float64\n",
      " 29  Amount  284807 non-null  float64\n",
      " 30  Class   284807 non-null  int64  \n",
      "dtypes: float64(30), int64(1)\n",
      "memory usage: 67.4 MB\n"
     ]
    }
   ],
   "source": [
    "cc.info()"
   ]
  },
  {
   "cell_type": "raw",
   "id": "7695bd9a",
   "metadata": {},
   "source": [
    "#_No null values\n",
    "#_All numeric values\n",
    "#_Independant variables type: Float"
   ]
  },
  {
   "cell_type": "markdown",
   "id": "7e1f2688",
   "metadata": {},
   "source": [
    "## Understanding the Data"
   ]
  },
  {
   "cell_type": "code",
   "execution_count": 4,
   "id": "08b83a26",
   "metadata": {},
   "outputs": [
    {
     "name": "stderr",
     "output_type": "stream",
     "text": [
      "C:\\Users\\Kanchan\\AppData\\Local\\Temp/ipykernel_12400/2809006246.py:4: UserWarning: To output multiple subplots, the figure containing the passed axes is being cleared\n",
      "  cc.hist(ax = ax)\n"
     ]
    },
    {
     "data": {
      "text/plain": [
       "array([[<AxesSubplot:title={'center':'Time'}>,\n",
       "        <AxesSubplot:title={'center':'V1'}>,\n",
       "        <AxesSubplot:title={'center':'V2'}>,\n",
       "        <AxesSubplot:title={'center':'V3'}>,\n",
       "        <AxesSubplot:title={'center':'V4'}>,\n",
       "        <AxesSubplot:title={'center':'V5'}>],\n",
       "       [<AxesSubplot:title={'center':'V6'}>,\n",
       "        <AxesSubplot:title={'center':'V7'}>,\n",
       "        <AxesSubplot:title={'center':'V8'}>,\n",
       "        <AxesSubplot:title={'center':'V9'}>,\n",
       "        <AxesSubplot:title={'center':'V10'}>,\n",
       "        <AxesSubplot:title={'center':'V11'}>],\n",
       "       [<AxesSubplot:title={'center':'V12'}>,\n",
       "        <AxesSubplot:title={'center':'V13'}>,\n",
       "        <AxesSubplot:title={'center':'V14'}>,\n",
       "        <AxesSubplot:title={'center':'V15'}>,\n",
       "        <AxesSubplot:title={'center':'V16'}>,\n",
       "        <AxesSubplot:title={'center':'V17'}>],\n",
       "       [<AxesSubplot:title={'center':'V18'}>,\n",
       "        <AxesSubplot:title={'center':'V19'}>,\n",
       "        <AxesSubplot:title={'center':'V20'}>,\n",
       "        <AxesSubplot:title={'center':'V21'}>,\n",
       "        <AxesSubplot:title={'center':'V22'}>,\n",
       "        <AxesSubplot:title={'center':'V23'}>],\n",
       "       [<AxesSubplot:title={'center':'V24'}>,\n",
       "        <AxesSubplot:title={'center':'V25'}>,\n",
       "        <AxesSubplot:title={'center':'V26'}>,\n",
       "        <AxesSubplot:title={'center':'V27'}>,\n",
       "        <AxesSubplot:title={'center':'V28'}>,\n",
       "        <AxesSubplot:title={'center':'Amount'}>],\n",
       "       [<AxesSubplot:title={'center':'Class'}>, <AxesSubplot:>,\n",
       "        <AxesSubplot:>, <AxesSubplot:>, <AxesSubplot:>, <AxesSubplot:>]],\n",
       "      dtype=object)"
      ]
     },
     "execution_count": 4,
     "metadata": {},
     "output_type": "execute_result"
    },
    {
     "data": {
      "image/png": "[encoded data removed]",
      "text/plain": [
       "<Figure size 2160x2160 with 36 Axes>"
      ]
     },
     "metadata": {
      "needs_background": "light"
     },
     "output_type": "display_data"
    }
   ],
   "source": [
    "import matplotlib.pyplot as plt\n",
    "\n",
    "fig, ax = plt.subplots(figsize=(30,30))\n",
    "cc.hist(ax = ax)"
   ]
  },
  {
   "cell_type": "raw",
   "id": "50474887",
   "metadata": {},
   "source": [
    "#_All the variables are normally distributed"
   ]
  },
  {
   "cell_type": "code",
   "execution_count": 5,
   "id": "e7335629",
   "metadata": {},
   "outputs": [
    {
     "name": "stderr",
     "output_type": "stream",
     "text": [
      "C:\\Users\\Kanchan\\anaconda3\\envs\\cc_fraud\\lib\\site-packages\\seaborn\\_decorators.py:36: FutureWarning: Pass the following variable as a keyword arg: x. From version 0.12, the only valid positional argument will be `data`, and passing other arguments without an explicit keyword will result in an error or misinterpretation.\n",
      "  warnings.warn(\n"
     ]
    },
    {
     "data": {
      "text/plain": [
       "<AxesSubplot:xlabel='Class', ylabel='count'>"
      ]
     },
     "execution_count": 5,
     "metadata": {},
     "output_type": "execute_result"
    },
    {
     "data": {
      "image/png": "[encoded data removed]",
      "text/plain": [
       "<Figure size 432x288 with 1 Axes>"
      ]
     },
     "metadata": {
      "needs_background": "light"
     },
     "output_type": "display_data"
    }
   ],
   "source": [
    "import seaborn as sns\n",
    "\n",
    "sns.countplot(cc['Class'])"
   ]
  },
  {
   "cell_type": "raw",
   "id": "6a13c04c",
   "metadata": {},
   "source": [
    "#_Target Variable is Unbalanced"
   ]
  },
  {
   "cell_type": "code",
   "execution_count": 6,
   "id": "e944b070",
   "metadata": {},
   "outputs": [
    {
     "data": {
      "text/plain": [
       "<matplotlib.collections.PathCollection at 0x12e83f58>"
      ]
     },
     "execution_count": 6,
     "metadata": {},
     "output_type": "execute_result"
    },
    {
     "data": {
      "image/png": "[encoded data removed]",
      "text/plain": [
       "<Figure size 432x288 with 1 Axes>"
      ]
     },
     "metadata": {
      "needs_background": "light"
     },
     "output_type": "display_data"
    }
   ],
   "source": [
    "plt.scatter(cc['Time'], cc['Amount'])"
   ]
  },
  {
   "cell_type": "raw",
   "id": "ea5a6931",
   "metadata": {},
   "source": [
    "#_There seems to be no specific transaction time span for any particular amount of transcation"
   ]
  },
  {
   "cell_type": "code",
   "execution_count": 7,
   "id": "93b1bb4f",
   "metadata": {
    "scrolled": true
   },
   "outputs": [
    {
     "data": {
      "text/plain": [
       "[<matplotlib.lines.Line2D at 0x12ec8eb0>]"
      ]
     },
     "execution_count": 7,
     "metadata": {},
     "output_type": "execute_result"
    },
    {
     "data": {
      "image/png": "[encoded data removed]",
      "text/plain": [
       "<Figure size 432x288 with 1 Axes>"
      ]
     },
     "metadata": {
      "needs_background": "light"
     },
     "output_type": "display_data"
    }
   ],
   "source": [
    "plt.plot(cc['Time'])"
   ]
  },
  {
   "cell_type": "raw",
   "id": "34372df0",
   "metadata": {},
   "source": [
    "#_Time here is forever increasing since it is a cumulative frequency."
   ]
  },
  {
   "cell_type": "raw",
   "id": "0c26d472",
   "metadata": {},
   "source": [
    "#_To find the pattern of frauds wrt time, need to find time per transaction."
   ]
  },
  {
   "cell_type": "code",
   "execution_count": 8,
   "id": "9cda9bc0",
   "metadata": {},
   "outputs": [],
   "source": [
    "act_time = cc['Time'].diff()  #getting reverse cumulatives"
   ]
  },
  {
   "cell_type": "code",
   "execution_count": 9,
   "id": "92aa346c",
   "metadata": {},
   "outputs": [
    {
     "data": {
      "text/html": [
       "<div>\n",
       "<style scoped>\n",
       "    .dataframe tbody tr th:only-of-type {\n",
       "        vertical-align: middle;\n",
       "    }\n",
       "\n",
       "    .dataframe tbody tr th {\n",
       "        vertical-align: top;\n",
       "    }\n",
       "\n",
       "    .dataframe thead th {\n",
       "        text-align: right;\n",
       "    }\n",
       "</style>\n",
       "<table border=\"1\" class=\"dataframe\">\n",
       "  <thead>\n",
       "    <tr style=\"text-align: right;\">\n",
       "      <th>Class</th>\n",
       "      <th>0</th>\n",
       "      <th>1</th>\n",
       "    </tr>\n",
       "    <tr>\n",
       "      <th>Time</th>\n",
       "      <th></th>\n",
       "      <th></th>\n",
       "    </tr>\n",
       "  </thead>\n",
       "  <tbody>\n",
       "    <tr>\n",
       "      <th>0.0</th>\n",
       "      <td>159967</td>\n",
       "      <td>248</td>\n",
       "    </tr>\n",
       "    <tr>\n",
       "      <th>1.0</th>\n",
       "      <td>99916</td>\n",
       "      <td>143</td>\n",
       "    </tr>\n",
       "    <tr>\n",
       "      <th>2.0</th>\n",
       "      <td>15576</td>\n",
       "      <td>44</td>\n",
       "    </tr>\n",
       "    <tr>\n",
       "      <th>3.0</th>\n",
       "      <td>4141</td>\n",
       "      <td>15</td>\n",
       "    </tr>\n",
       "    <tr>\n",
       "      <th>4.0</th>\n",
       "      <td>1798</td>\n",
       "      <td>9</td>\n",
       "    </tr>\n",
       "    <tr>\n",
       "      <th>5.0</th>\n",
       "      <td>947</td>\n",
       "      <td>14</td>\n",
       "    </tr>\n",
       "    <tr>\n",
       "      <th>6.0</th>\n",
       "      <td>613</td>\n",
       "      <td>6</td>\n",
       "    </tr>\n",
       "    <tr>\n",
       "      <th>7.0</th>\n",
       "      <td>375</td>\n",
       "      <td>5</td>\n",
       "    </tr>\n",
       "    <tr>\n",
       "      <th>8.0</th>\n",
       "      <td>296</td>\n",
       "      <td>2</td>\n",
       "    </tr>\n",
       "    <tr>\n",
       "      <th>9.0</th>\n",
       "      <td>198</td>\n",
       "      <td>2</td>\n",
       "    </tr>\n",
       "    <tr>\n",
       "      <th>10.0</th>\n",
       "      <td>136</td>\n",
       "      <td>2</td>\n",
       "    </tr>\n",
       "    <tr>\n",
       "      <th>11.0</th>\n",
       "      <td>86</td>\n",
       "      <td>0</td>\n",
       "    </tr>\n",
       "    <tr>\n",
       "      <th>12.0</th>\n",
       "      <td>60</td>\n",
       "      <td>1</td>\n",
       "    </tr>\n",
       "    <tr>\n",
       "      <th>13.0</th>\n",
       "      <td>56</td>\n",
       "      <td>0</td>\n",
       "    </tr>\n",
       "    <tr>\n",
       "      <th>14.0</th>\n",
       "      <td>33</td>\n",
       "      <td>0</td>\n",
       "    </tr>\n",
       "    <tr>\n",
       "      <th>15.0</th>\n",
       "      <td>23</td>\n",
       "      <td>0</td>\n",
       "    </tr>\n",
       "    <tr>\n",
       "      <th>16.0</th>\n",
       "      <td>25</td>\n",
       "      <td>1</td>\n",
       "    </tr>\n",
       "    <tr>\n",
       "      <th>17.0</th>\n",
       "      <td>14</td>\n",
       "      <td>0</td>\n",
       "    </tr>\n",
       "    <tr>\n",
       "      <th>18.0</th>\n",
       "      <td>9</td>\n",
       "      <td>0</td>\n",
       "    </tr>\n",
       "    <tr>\n",
       "      <th>19.0</th>\n",
       "      <td>12</td>\n",
       "      <td>0</td>\n",
       "    </tr>\n",
       "    <tr>\n",
       "      <th>20.0</th>\n",
       "      <td>7</td>\n",
       "      <td>0</td>\n",
       "    </tr>\n",
       "    <tr>\n",
       "      <th>21.0</th>\n",
       "      <td>5</td>\n",
       "      <td>0</td>\n",
       "    </tr>\n",
       "    <tr>\n",
       "      <th>22.0</th>\n",
       "      <td>4</td>\n",
       "      <td>0</td>\n",
       "    </tr>\n",
       "    <tr>\n",
       "      <th>23.0</th>\n",
       "      <td>1</td>\n",
       "      <td>0</td>\n",
       "    </tr>\n",
       "    <tr>\n",
       "      <th>24.0</th>\n",
       "      <td>2</td>\n",
       "      <td>0</td>\n",
       "    </tr>\n",
       "    <tr>\n",
       "      <th>25.0</th>\n",
       "      <td>2</td>\n",
       "      <td>0</td>\n",
       "    </tr>\n",
       "    <tr>\n",
       "      <th>26.0</th>\n",
       "      <td>4</td>\n",
       "      <td>0</td>\n",
       "    </tr>\n",
       "    <tr>\n",
       "      <th>27.0</th>\n",
       "      <td>1</td>\n",
       "      <td>0</td>\n",
       "    </tr>\n",
       "    <tr>\n",
       "      <th>28.0</th>\n",
       "      <td>3</td>\n",
       "      <td>0</td>\n",
       "    </tr>\n",
       "    <tr>\n",
       "      <th>32.0</th>\n",
       "      <td>4</td>\n",
       "      <td>0</td>\n",
       "    </tr>\n",
       "  </tbody>\n",
       "</table>\n",
       "</div>"
      ],
      "text/plain": [
       "Class       0    1\n",
       "Time              \n",
       "0.0    159967  248\n",
       "1.0     99916  143\n",
       "2.0     15576   44\n",
       "3.0      4141   15\n",
       "4.0      1798    9\n",
       "5.0       947   14\n",
       "6.0       613    6\n",
       "7.0       375    5\n",
       "8.0       296    2\n",
       "9.0       198    2\n",
       "10.0      136    2\n",
       "11.0       86    0\n",
       "12.0       60    1\n",
       "13.0       56    0\n",
       "14.0       33    0\n",
       "15.0       23    0\n",
       "16.0       25    1\n",
       "17.0       14    0\n",
       "18.0        9    0\n",
       "19.0       12    0\n",
       "20.0        7    0\n",
       "21.0        5    0\n",
       "22.0        4    0\n",
       "23.0        1    0\n",
       "24.0        2    0\n",
       "25.0        2    0\n",
       "26.0        4    0\n",
       "27.0        1    0\n",
       "28.0        3    0\n",
       "32.0        4    0"
      ]
     },
     "execution_count": 9,
     "metadata": {},
     "output_type": "execute_result"
    }
   ],
   "source": [
    "pd.crosstab(act_time, cc['Class'])"
   ]
  },
  {
   "cell_type": "raw",
   "id": "05914783",
   "metadata": {},
   "source": [
    "#_Transactions with lower completion time (<10) have more frauds."
   ]
  },
  {
   "cell_type": "code",
   "execution_count": 10,
   "id": "1c863df9",
   "metadata": {},
   "outputs": [
    {
     "name": "stdout",
     "output_type": "stream",
     "text": [
      "Total unique value 32767\n",
      "Maximum Value 25691.16\n",
      "Minimum Value 0.0\n"
     ]
    },
    {
     "data": {
      "text/html": [
       "<div>\n",
       "<style scoped>\n",
       "    .dataframe tbody tr th:only-of-type {\n",
       "        vertical-align: middle;\n",
       "    }\n",
       "\n",
       "    .dataframe tbody tr th {\n",
       "        vertical-align: top;\n",
       "    }\n",
       "\n",
       "    .dataframe thead th {\n",
       "        text-align: right;\n",
       "    }\n",
       "</style>\n",
       "<table border=\"1\" class=\"dataframe\">\n",
       "  <thead>\n",
       "    <tr style=\"text-align: right;\">\n",
       "      <th>Class</th>\n",
       "      <th>0</th>\n",
       "      <th>1</th>\n",
       "    </tr>\n",
       "    <tr>\n",
       "      <th>Classamt</th>\n",
       "      <th></th>\n",
       "      <th></th>\n",
       "    </tr>\n",
       "  </thead>\n",
       "  <tbody>\n",
       "    <tr>\n",
       "      <th>(0.0, 1000.0]</th>\n",
       "      <td>279586</td>\n",
       "      <td>456</td>\n",
       "    </tr>\n",
       "    <tr>\n",
       "      <th>(1000.0, 2000.0]</th>\n",
       "      <td>2256</td>\n",
       "      <td>8</td>\n",
       "    </tr>\n",
       "    <tr>\n",
       "      <th>(2000.0, 3000.0]</th>\n",
       "      <td>391</td>\n",
       "      <td>1</td>\n",
       "    </tr>\n",
       "    <tr>\n",
       "      <th>(3000.0, 4000.0]</th>\n",
       "      <td>164</td>\n",
       "      <td>0</td>\n",
       "    </tr>\n",
       "    <tr>\n",
       "      <th>(4000.0, 5000.0]</th>\n",
       "      <td>65</td>\n",
       "      <td>0</td>\n",
       "    </tr>\n",
       "    <tr>\n",
       "      <th>(5000.0, 6000.0]</th>\n",
       "      <td>23</td>\n",
       "      <td>0</td>\n",
       "    </tr>\n",
       "    <tr>\n",
       "      <th>(6000.0, 7000.0]</th>\n",
       "      <td>11</td>\n",
       "      <td>0</td>\n",
       "    </tr>\n",
       "    <tr>\n",
       "      <th>(7000.0, 8000.0]</th>\n",
       "      <td>9</td>\n",
       "      <td>0</td>\n",
       "    </tr>\n",
       "    <tr>\n",
       "      <th>(8000.0, 9000.0]</th>\n",
       "      <td>4</td>\n",
       "      <td>0</td>\n",
       "    </tr>\n",
       "    <tr>\n",
       "      <th>(9000.0, 10000.0]</th>\n",
       "      <td>1</td>\n",
       "      <td>0</td>\n",
       "    </tr>\n",
       "    <tr>\n",
       "      <th>(10000.0, 11000.0]</th>\n",
       "      <td>1</td>\n",
       "      <td>0</td>\n",
       "    </tr>\n",
       "    <tr>\n",
       "      <th>(11000.0, 12000.0]</th>\n",
       "      <td>2</td>\n",
       "      <td>0</td>\n",
       "    </tr>\n",
       "    <tr>\n",
       "      <th>(12000.0, 13000.0]</th>\n",
       "      <td>1</td>\n",
       "      <td>0</td>\n",
       "    </tr>\n",
       "    <tr>\n",
       "      <th>(18000.0, 19000.0]</th>\n",
       "      <td>1</td>\n",
       "      <td>0</td>\n",
       "    </tr>\n",
       "    <tr>\n",
       "      <th>(19000.0, 20000.0]</th>\n",
       "      <td>1</td>\n",
       "      <td>0</td>\n",
       "    </tr>\n",
       "  </tbody>\n",
       "</table>\n",
       "</div>"
      ],
      "text/plain": [
       "Class                    0    1\n",
       "Classamt                       \n",
       "(0.0, 1000.0]       279586  456\n",
       "(1000.0, 2000.0]      2256    8\n",
       "(2000.0, 3000.0]       391    1\n",
       "(3000.0, 4000.0]       164    0\n",
       "(4000.0, 5000.0]        65    0\n",
       "(5000.0, 6000.0]        23    0\n",
       "(6000.0, 7000.0]        11    0\n",
       "(7000.0, 8000.0]         9    0\n",
       "(8000.0, 9000.0]         4    0\n",
       "(9000.0, 10000.0]        1    0\n",
       "(10000.0, 11000.0]       1    0\n",
       "(11000.0, 12000.0]       2    0\n",
       "(12000.0, 13000.0]       1    0\n",
       "(18000.0, 19000.0]       1    0\n",
       "(19000.0, 20000.0]       1    0"
      ]
     },
     "execution_count": 10,
     "metadata": {},
     "output_type": "execute_result"
    }
   ],
   "source": [
    "##Checking to see if Frauds have some pattern wrt Amount\n",
    "\n",
    "import numpy as np\n",
    "%matplotlib inline\n",
    "\n",
    "#total unique values in Amount\n",
    "print('Total unique value',len(cc['Amount'].unique()))\n",
    "print('Maximum Value', cc['Amount'].max())\n",
    "print('Minimum Value', cc['Amount'].min())\n",
    "\n",
    "#Creating class intervals for Amount\n",
    "bins = np.arange(0, 26000, 1000)\n",
    "classint = pd.DataFrame(pd.cut(cc['Amount'], bins = bins))\n",
    "\n",
    "#Adding the class in the orginial dataset\n",
    "cc1 = cc.copy()\n",
    "cc1['Classamt']=classint\n",
    "\n",
    "#Analyzing the frauds wrt the amounts\n",
    "pd.crosstab(cc1['Classamt'],cc1['Class'])"
   ]
  },
  {
   "cell_type": "raw",
   "id": "be8d3832",
   "metadata": {},
   "source": [
    "#_All frauds are done for lower amounts i.e. <1000"
   ]
  },
  {
   "cell_type": "markdown",
   "id": "f5ab2471",
   "metadata": {},
   "source": [
    "## Data Preparation\n",
    "\n",
    "### Data Cleaning\n",
    "\n",
    "#### 1. Outliers"
   ]
  },
  {
   "cell_type": "code",
   "execution_count": 11,
   "id": "e00cd88a",
   "metadata": {},
   "outputs": [
    {
     "data": {
      "text/plain": [
       "<AxesSubplot:>"
      ]
     },
     "execution_count": 11,
     "metadata": {},
     "output_type": "execute_result"
    },
    {
     "data": {
      "image/png": "[encoded data removed]",
      "text/plain": [
       "<Figure size 720x720 with 1 Axes>"
      ]
     },
     "metadata": {
      "needs_background": "light"
     },
     "output_type": "display_data"
    }
   ],
   "source": [
    "fig, ax = plt.subplots(figsize=(10,10))\n",
    "cc.boxplot(ax=ax)"
   ]
  },
  {
   "cell_type": "code",
   "execution_count": 12,
   "id": "f7e345b9",
   "metadata": {},
   "outputs": [
    {
     "data": {
      "text/plain": [
       "31"
      ]
     },
     "execution_count": 12,
     "metadata": {},
     "output_type": "execute_result"
    }
   ],
   "source": [
    "len(cc.columns)"
   ]
  },
  {
   "cell_type": "raw",
   "id": "bc15fc8a",
   "metadata": {},
   "source": [
    "#_Since there are a lot of columns and certain outliers exists in each column...\n",
    "#_Considering Loacal Outliers"
   ]
  },
  {
   "cell_type": "code",
   "execution_count": 13,
   "id": "848e6c70",
   "metadata": {},
   "outputs": [
    {
     "data": {
      "text/plain": [
       "array([-1,  1, -1, ..., -1,  1, -1])"
      ]
     },
     "execution_count": 13,
     "metadata": {},
     "output_type": "execute_result"
    }
   ],
   "source": [
    "from sklearn.neighbors import LocalOutlierFactor\n",
    "\n",
    "l = LocalOutlierFactor()\n",
    "lfit = l.fit_predict(cc)\n",
    "lfit  #-1 = Outlier"
   ]
  },
  {
   "cell_type": "code",
   "execution_count": 14,
   "id": "ddbc4e60",
   "metadata": {
    "scrolled": true
   },
   "outputs": [
    {
     "data": {
      "text/plain": [
       "(array([     0,      2,      3, ..., 284802, 284804, 284806], dtype=int32),)"
      ]
     },
     "execution_count": 14,
     "metadata": {},
     "output_type": "execute_result"
    }
   ],
   "source": [
    "outliers = np.where(lfit == -1)  \n",
    "outliers  #tuple of outliers indices"
   ]
  },
  {
   "cell_type": "code",
   "execution_count": 15,
   "id": "6a412dd2",
   "metadata": {},
   "outputs": [
    {
     "data": {
      "text/html": [
       "<div>\n",
       "<style scoped>\n",
       "    .dataframe tbody tr th:only-of-type {\n",
       "        vertical-align: middle;\n",
       "    }\n",
       "\n",
       "    .dataframe tbody tr th {\n",
       "        vertical-align: top;\n",
       "    }\n",
       "\n",
       "    .dataframe thead th {\n",
       "        text-align: right;\n",
       "    }\n",
       "</style>\n",
       "<table border=\"1\" class=\"dataframe\">\n",
       "  <thead>\n",
       "    <tr style=\"text-align: right;\">\n",
       "      <th></th>\n",
       "      <th>Time</th>\n",
       "      <th>V1</th>\n",
       "      <th>V2</th>\n",
       "      <th>V3</th>\n",
       "      <th>V4</th>\n",
       "      <th>V5</th>\n",
       "      <th>V6</th>\n",
       "      <th>V7</th>\n",
       "      <th>V8</th>\n",
       "      <th>V9</th>\n",
       "      <th>...</th>\n",
       "      <th>V21</th>\n",
       "      <th>V22</th>\n",
       "      <th>V23</th>\n",
       "      <th>V24</th>\n",
       "      <th>V25</th>\n",
       "      <th>V26</th>\n",
       "      <th>V27</th>\n",
       "      <th>V28</th>\n",
       "      <th>Amount</th>\n",
       "      <th>Class</th>\n",
       "    </tr>\n",
       "  </thead>\n",
       "  <tbody>\n",
       "    <tr>\n",
       "      <th>1</th>\n",
       "      <td>0.0</td>\n",
       "      <td>1.191857</td>\n",
       "      <td>0.266151</td>\n",
       "      <td>0.166480</td>\n",
       "      <td>0.448154</td>\n",
       "      <td>0.060018</td>\n",
       "      <td>-0.082361</td>\n",
       "      <td>-0.078803</td>\n",
       "      <td>0.085102</td>\n",
       "      <td>-0.255425</td>\n",
       "      <td>...</td>\n",
       "      <td>-0.225775</td>\n",
       "      <td>-0.638672</td>\n",
       "      <td>0.101288</td>\n",
       "      <td>-0.339846</td>\n",
       "      <td>0.167170</td>\n",
       "      <td>0.125895</td>\n",
       "      <td>-0.008983</td>\n",
       "      <td>0.014724</td>\n",
       "      <td>2.69</td>\n",
       "      <td>0</td>\n",
       "    </tr>\n",
       "    <tr>\n",
       "      <th>5</th>\n",
       "      <td>2.0</td>\n",
       "      <td>-0.425966</td>\n",
       "      <td>0.960523</td>\n",
       "      <td>1.141109</td>\n",
       "      <td>-0.168252</td>\n",
       "      <td>0.420987</td>\n",
       "      <td>-0.029728</td>\n",
       "      <td>0.476201</td>\n",
       "      <td>0.260314</td>\n",
       "      <td>-0.568671</td>\n",
       "      <td>...</td>\n",
       "      <td>-0.208254</td>\n",
       "      <td>-0.559825</td>\n",
       "      <td>-0.026398</td>\n",
       "      <td>-0.371427</td>\n",
       "      <td>-0.232794</td>\n",
       "      <td>0.105915</td>\n",
       "      <td>0.253844</td>\n",
       "      <td>0.081080</td>\n",
       "      <td>3.67</td>\n",
       "      <td>0</td>\n",
       "    </tr>\n",
       "    <tr>\n",
       "      <th>6</th>\n",
       "      <td>4.0</td>\n",
       "      <td>1.229658</td>\n",
       "      <td>0.141004</td>\n",
       "      <td>0.045371</td>\n",
       "      <td>1.202613</td>\n",
       "      <td>0.191881</td>\n",
       "      <td>0.272708</td>\n",
       "      <td>-0.005159</td>\n",
       "      <td>0.081213</td>\n",
       "      <td>0.464960</td>\n",
       "      <td>...</td>\n",
       "      <td>-0.167716</td>\n",
       "      <td>-0.270710</td>\n",
       "      <td>-0.154104</td>\n",
       "      <td>-0.780055</td>\n",
       "      <td>0.750137</td>\n",
       "      <td>-0.257237</td>\n",
       "      <td>0.034507</td>\n",
       "      <td>0.005168</td>\n",
       "      <td>4.99</td>\n",
       "      <td>0</td>\n",
       "    </tr>\n",
       "    <tr>\n",
       "      <th>9</th>\n",
       "      <td>9.0</td>\n",
       "      <td>-0.338262</td>\n",
       "      <td>1.119593</td>\n",
       "      <td>1.044367</td>\n",
       "      <td>-0.222187</td>\n",
       "      <td>0.499361</td>\n",
       "      <td>-0.246761</td>\n",
       "      <td>0.651583</td>\n",
       "      <td>0.069539</td>\n",
       "      <td>-0.736727</td>\n",
       "      <td>...</td>\n",
       "      <td>-0.246914</td>\n",
       "      <td>-0.633753</td>\n",
       "      <td>-0.120794</td>\n",
       "      <td>-0.385050</td>\n",
       "      <td>-0.069733</td>\n",
       "      <td>0.094199</td>\n",
       "      <td>0.246219</td>\n",
       "      <td>0.083076</td>\n",
       "      <td>3.68</td>\n",
       "      <td>0</td>\n",
       "    </tr>\n",
       "    <tr>\n",
       "      <th>10</th>\n",
       "      <td>10.0</td>\n",
       "      <td>1.449044</td>\n",
       "      <td>-1.176339</td>\n",
       "      <td>0.913860</td>\n",
       "      <td>-1.375667</td>\n",
       "      <td>-1.971383</td>\n",
       "      <td>-0.629152</td>\n",
       "      <td>-1.423236</td>\n",
       "      <td>0.048456</td>\n",
       "      <td>-1.720408</td>\n",
       "      <td>...</td>\n",
       "      <td>-0.009302</td>\n",
       "      <td>0.313894</td>\n",
       "      <td>0.027740</td>\n",
       "      <td>0.500512</td>\n",
       "      <td>0.251367</td>\n",
       "      <td>-0.129478</td>\n",
       "      <td>0.042850</td>\n",
       "      <td>0.016253</td>\n",
       "      <td>7.80</td>\n",
       "      <td>0</td>\n",
       "    </tr>\n",
       "    <tr>\n",
       "      <th>...</th>\n",
       "      <td>...</td>\n",
       "      <td>...</td>\n",
       "      <td>...</td>\n",
       "      <td>...</td>\n",
       "      <td>...</td>\n",
       "      <td>...</td>\n",
       "      <td>...</td>\n",
       "      <td>...</td>\n",
       "      <td>...</td>\n",
       "      <td>...</td>\n",
       "      <td>...</td>\n",
       "      <td>...</td>\n",
       "      <td>...</td>\n",
       "      <td>...</td>\n",
       "      <td>...</td>\n",
       "      <td>...</td>\n",
       "      <td>...</td>\n",
       "      <td>...</td>\n",
       "      <td>...</td>\n",
       "      <td>...</td>\n",
       "      <td>...</td>\n",
       "    </tr>\n",
       "    <tr>\n",
       "      <th>284798</th>\n",
       "      <td>172782.0</td>\n",
       "      <td>0.219529</td>\n",
       "      <td>0.881246</td>\n",
       "      <td>-0.635891</td>\n",
       "      <td>0.960928</td>\n",
       "      <td>-0.152971</td>\n",
       "      <td>-1.014307</td>\n",
       "      <td>0.427126</td>\n",
       "      <td>0.121340</td>\n",
       "      <td>-0.285670</td>\n",
       "      <td>...</td>\n",
       "      <td>0.099936</td>\n",
       "      <td>0.337120</td>\n",
       "      <td>0.251791</td>\n",
       "      <td>0.057688</td>\n",
       "      <td>-1.508368</td>\n",
       "      <td>0.144023</td>\n",
       "      <td>0.181205</td>\n",
       "      <td>0.215243</td>\n",
       "      <td>24.05</td>\n",
       "      <td>0</td>\n",
       "    </tr>\n",
       "    <tr>\n",
       "      <th>284800</th>\n",
       "      <td>172784.0</td>\n",
       "      <td>2.039560</td>\n",
       "      <td>-0.175233</td>\n",
       "      <td>-1.196825</td>\n",
       "      <td>0.234580</td>\n",
       "      <td>-0.008713</td>\n",
       "      <td>-0.726571</td>\n",
       "      <td>0.017050</td>\n",
       "      <td>-0.118228</td>\n",
       "      <td>0.435402</td>\n",
       "      <td>...</td>\n",
       "      <td>-0.268048</td>\n",
       "      <td>-0.717211</td>\n",
       "      <td>0.297930</td>\n",
       "      <td>-0.359769</td>\n",
       "      <td>-0.315610</td>\n",
       "      <td>0.201114</td>\n",
       "      <td>-0.080826</td>\n",
       "      <td>-0.075071</td>\n",
       "      <td>2.68</td>\n",
       "      <td>0</td>\n",
       "    </tr>\n",
       "    <tr>\n",
       "      <th>284801</th>\n",
       "      <td>172785.0</td>\n",
       "      <td>0.120316</td>\n",
       "      <td>0.931005</td>\n",
       "      <td>-0.546012</td>\n",
       "      <td>-0.745097</td>\n",
       "      <td>1.130314</td>\n",
       "      <td>-0.235973</td>\n",
       "      <td>0.812722</td>\n",
       "      <td>0.115093</td>\n",
       "      <td>-0.204064</td>\n",
       "      <td>...</td>\n",
       "      <td>-0.314205</td>\n",
       "      <td>-0.808520</td>\n",
       "      <td>0.050343</td>\n",
       "      <td>0.102800</td>\n",
       "      <td>-0.435870</td>\n",
       "      <td>0.124079</td>\n",
       "      <td>0.217940</td>\n",
       "      <td>0.068803</td>\n",
       "      <td>2.69</td>\n",
       "      <td>0</td>\n",
       "    </tr>\n",
       "    <tr>\n",
       "      <th>284803</th>\n",
       "      <td>172787.0</td>\n",
       "      <td>-0.732789</td>\n",
       "      <td>-0.055080</td>\n",
       "      <td>2.035030</td>\n",
       "      <td>-0.738589</td>\n",
       "      <td>0.868229</td>\n",
       "      <td>1.058415</td>\n",
       "      <td>0.024330</td>\n",
       "      <td>0.294869</td>\n",
       "      <td>0.584800</td>\n",
       "      <td>...</td>\n",
       "      <td>0.214205</td>\n",
       "      <td>0.924384</td>\n",
       "      <td>0.012463</td>\n",
       "      <td>-1.016226</td>\n",
       "      <td>-0.606624</td>\n",
       "      <td>-0.395255</td>\n",
       "      <td>0.068472</td>\n",
       "      <td>-0.053527</td>\n",
       "      <td>24.79</td>\n",
       "      <td>0</td>\n",
       "    </tr>\n",
       "    <tr>\n",
       "      <th>284805</th>\n",
       "      <td>172788.0</td>\n",
       "      <td>-0.240440</td>\n",
       "      <td>0.530483</td>\n",
       "      <td>0.702510</td>\n",
       "      <td>0.689799</td>\n",
       "      <td>-0.377961</td>\n",
       "      <td>0.623708</td>\n",
       "      <td>-0.686180</td>\n",
       "      <td>0.679145</td>\n",
       "      <td>0.392087</td>\n",
       "      <td>...</td>\n",
       "      <td>0.265245</td>\n",
       "      <td>0.800049</td>\n",
       "      <td>-0.163298</td>\n",
       "      <td>0.123205</td>\n",
       "      <td>-0.569159</td>\n",
       "      <td>0.546668</td>\n",
       "      <td>0.108821</td>\n",
       "      <td>0.104533</td>\n",
       "      <td>10.00</td>\n",
       "      <td>0</td>\n",
       "    </tr>\n",
       "  </tbody>\n",
       "</table>\n",
       "<p>280501 rows × 31 columns</p>\n",
       "</div>"
      ],
      "text/plain": [
       "            Time        V1        V2        V3        V4        V5        V6  \\\n",
       "1            0.0  1.191857  0.266151  0.166480  0.448154  0.060018 -0.082361   \n",
       "5            2.0 -0.425966  0.960523  1.141109 -0.168252  0.420987 -0.029728   \n",
       "6            4.0  1.229658  0.141004  0.045371  1.202613  0.191881  0.272708   \n",
       "9            9.0 -0.338262  1.119593  1.044367 -0.222187  0.499361 -0.246761   \n",
       "10          10.0  1.449044 -1.176339  0.913860 -1.375667 -1.971383 -0.629152   \n",
       "...          ...       ...       ...       ...       ...       ...       ...   \n",
       "284798  172782.0  0.219529  0.881246 -0.635891  0.960928 -0.152971 -1.014307   \n",
       "284800  172784.0  2.039560 -0.175233 -1.196825  0.234580 -0.008713 -0.726571   \n",
       "284801  172785.0  0.120316  0.931005 -0.546012 -0.745097  1.130314 -0.235973   \n",
       "284803  172787.0 -0.732789 -0.055080  2.035030 -0.738589  0.868229  1.058415   \n",
       "284805  172788.0 -0.240440  0.530483  0.702510  0.689799 -0.377961  0.623708   \n",
       "\n",
       "              V7        V8        V9  ...       V21       V22       V23  \\\n",
       "1      -0.078803  0.085102 -0.255425  ... -0.225775 -0.638672  0.101288   \n",
       "5       0.476201  0.260314 -0.568671  ... -0.208254 -0.559825 -0.026398   \n",
       "6      -0.005159  0.081213  0.464960  ... -0.167716 -0.270710 -0.154104   \n",
       "9       0.651583  0.069539 -0.736727  ... -0.246914 -0.633753 -0.120794   \n",
       "10     -1.423236  0.048456 -1.720408  ... -0.009302  0.313894  0.027740   \n",
       "...          ...       ...       ...  ...       ...       ...       ...   \n",
       "284798  0.427126  0.121340 -0.285670  ...  0.099936  0.337120  0.251791   \n",
       "284800  0.017050 -0.118228  0.435402  ... -0.268048 -0.717211  0.297930   \n",
       "284801  0.812722  0.115093 -0.204064  ... -0.314205 -0.808520  0.050343   \n",
       "284803  0.024330  0.294869  0.584800  ...  0.214205  0.924384  0.012463   \n",
       "284805 -0.686180  0.679145  0.392087  ...  0.265245  0.800049 -0.163298   \n",
       "\n",
       "             V24       V25       V26       V27       V28  Amount  Class  \n",
       "1      -0.339846  0.167170  0.125895 -0.008983  0.014724    2.69      0  \n",
       "5      -0.371427 -0.232794  0.105915  0.253844  0.081080    3.67      0  \n",
       "6      -0.780055  0.750137 -0.257237  0.034507  0.005168    4.99      0  \n",
       "9      -0.385050 -0.069733  0.094199  0.246219  0.083076    3.68      0  \n",
       "10      0.500512  0.251367 -0.129478  0.042850  0.016253    7.80      0  \n",
       "...          ...       ...       ...       ...       ...     ...    ...  \n",
       "284798  0.057688 -1.508368  0.144023  0.181205  0.215243   24.05      0  \n",
       "284800 -0.359769 -0.315610  0.201114 -0.080826 -0.075071    2.68      0  \n",
       "284801  0.102800 -0.435870  0.124079  0.217940  0.068803    2.69      0  \n",
       "284803 -1.016226 -0.606624 -0.395255  0.068472 -0.053527   24.79      0  \n",
       "284805  0.123205 -0.569159  0.546668  0.108821  0.104533   10.00      0  \n",
       "\n",
       "[280501 rows x 31 columns]"
      ]
     },
     "execution_count": 15,
     "metadata": {},
     "output_type": "execute_result"
    }
   ],
   "source": [
    "outliers = np.asarray(outliers)  #Tuple to 2d array\n",
    "\n",
    "cc2 = cc.copy()\n",
    "cc3 = cc2.drop(outliers.flatten(), axis=0)  #Flatten() to convert 2d to 1d array\n",
    "cc3"
   ]
  },
  {
   "cell_type": "markdown",
   "id": "550618ba",
   "metadata": {},
   "source": [
    "#### 2. Standardization\n",
    "##### Amount"
   ]
  },
  {
   "cell_type": "code",
   "execution_count": 16,
   "id": "faf25337",
   "metadata": {},
   "outputs": [],
   "source": [
    "from sklearn.preprocessing import StandardScaler\n",
    "\n",
    "scale = StandardScaler()\n",
    "cc3['Amount'] = scale.fit_transform(cc3[['Amount']])"
   ]
  },
  {
   "cell_type": "markdown",
   "id": "cd3da506",
   "metadata": {},
   "source": [
    "#### 3. Checking for duplicated records"
   ]
  },
  {
   "cell_type": "code",
   "execution_count": 17,
   "id": "f0cf87be",
   "metadata": {},
   "outputs": [
    {
     "data": {
      "text/plain": [
       "Int64Index([    33,     35,    113,    114,    115,    221,    223,   1178,\n",
       "              1180,   1382,\n",
       "            ...\n",
       "            282210, 282211, 282212, 282213, 282985, 282987, 283483, 283485,\n",
       "            284191, 284193],\n",
       "           dtype='int64', length=1058)"
      ]
     },
     "execution_count": 17,
     "metadata": {},
     "output_type": "execute_result"
    }
   ],
   "source": [
    "dupindex = cc3[cc3.duplicated()]\n",
    "dupindex.index"
   ]
  },
  {
   "cell_type": "code",
   "execution_count": 18,
   "id": "c0f27e47",
   "metadata": {
    "scrolled": true
   },
   "outputs": [
    {
     "data": {
      "text/plain": [
       "(279443, 31)"
      ]
     },
     "execution_count": 18,
     "metadata": {},
     "output_type": "execute_result"
    }
   ],
   "source": [
    "#Dropping duplicated rows\n",
    "cc4 = cc3.drop(dupindex.index)\n",
    "cc4.shape"
   ]
  },
  {
   "cell_type": "code",
   "execution_count": 19,
   "id": "1ef60ef1",
   "metadata": {},
   "outputs": [
    {
     "data": {
      "text/html": [
       "<div>\n",
       "<style scoped>\n",
       "    .dataframe tbody tr th:only-of-type {\n",
       "        vertical-align: middle;\n",
       "    }\n",
       "\n",
       "    .dataframe tbody tr th {\n",
       "        vertical-align: top;\n",
       "    }\n",
       "\n",
       "    .dataframe thead th {\n",
       "        text-align: right;\n",
       "    }\n",
       "</style>\n",
       "<table border=\"1\" class=\"dataframe\">\n",
       "  <thead>\n",
       "    <tr style=\"text-align: right;\">\n",
       "      <th></th>\n",
       "      <th>Time</th>\n",
       "      <th>V1</th>\n",
       "      <th>V2</th>\n",
       "      <th>V3</th>\n",
       "      <th>V4</th>\n",
       "      <th>V5</th>\n",
       "      <th>V6</th>\n",
       "      <th>V7</th>\n",
       "      <th>V8</th>\n",
       "      <th>V9</th>\n",
       "      <th>...</th>\n",
       "      <th>V21</th>\n",
       "      <th>V22</th>\n",
       "      <th>V23</th>\n",
       "      <th>V24</th>\n",
       "      <th>V25</th>\n",
       "      <th>V26</th>\n",
       "      <th>V27</th>\n",
       "      <th>V28</th>\n",
       "      <th>Amount</th>\n",
       "      <th>Class</th>\n",
       "    </tr>\n",
       "  </thead>\n",
       "  <tbody>\n",
       "    <tr>\n",
       "      <th>1</th>\n",
       "      <td>0.0</td>\n",
       "      <td>1.191857</td>\n",
       "      <td>0.266151</td>\n",
       "      <td>0.166480</td>\n",
       "      <td>0.448154</td>\n",
       "      <td>0.060018</td>\n",
       "      <td>-0.082361</td>\n",
       "      <td>-0.078803</td>\n",
       "      <td>0.085102</td>\n",
       "      <td>-0.255425</td>\n",
       "      <td>...</td>\n",
       "      <td>-0.225775</td>\n",
       "      <td>-0.638672</td>\n",
       "      <td>0.101288</td>\n",
       "      <td>-0.339846</td>\n",
       "      <td>0.167170</td>\n",
       "      <td>0.125895</td>\n",
       "      <td>-0.008983</td>\n",
       "      <td>0.014724</td>\n",
       "      <td>-0.400776</td>\n",
       "      <td>0</td>\n",
       "    </tr>\n",
       "    <tr>\n",
       "      <th>5</th>\n",
       "      <td>2.0</td>\n",
       "      <td>-0.425966</td>\n",
       "      <td>0.960523</td>\n",
       "      <td>1.141109</td>\n",
       "      <td>-0.168252</td>\n",
       "      <td>0.420987</td>\n",
       "      <td>-0.029728</td>\n",
       "      <td>0.476201</td>\n",
       "      <td>0.260314</td>\n",
       "      <td>-0.568671</td>\n",
       "      <td>...</td>\n",
       "      <td>-0.208254</td>\n",
       "      <td>-0.559825</td>\n",
       "      <td>-0.026398</td>\n",
       "      <td>-0.371427</td>\n",
       "      <td>-0.232794</td>\n",
       "      <td>0.105915</td>\n",
       "      <td>0.253844</td>\n",
       "      <td>0.081080</td>\n",
       "      <td>-0.395856</td>\n",
       "      <td>0</td>\n",
       "    </tr>\n",
       "    <tr>\n",
       "      <th>6</th>\n",
       "      <td>4.0</td>\n",
       "      <td>1.229658</td>\n",
       "      <td>0.141004</td>\n",
       "      <td>0.045371</td>\n",
       "      <td>1.202613</td>\n",
       "      <td>0.191881</td>\n",
       "      <td>0.272708</td>\n",
       "      <td>-0.005159</td>\n",
       "      <td>0.081213</td>\n",
       "      <td>0.464960</td>\n",
       "      <td>...</td>\n",
       "      <td>-0.167716</td>\n",
       "      <td>-0.270710</td>\n",
       "      <td>-0.154104</td>\n",
       "      <td>-0.780055</td>\n",
       "      <td>0.750137</td>\n",
       "      <td>-0.257237</td>\n",
       "      <td>0.034507</td>\n",
       "      <td>0.005168</td>\n",
       "      <td>-0.389230</td>\n",
       "      <td>0</td>\n",
       "    </tr>\n",
       "    <tr>\n",
       "      <th>9</th>\n",
       "      <td>9.0</td>\n",
       "      <td>-0.338262</td>\n",
       "      <td>1.119593</td>\n",
       "      <td>1.044367</td>\n",
       "      <td>-0.222187</td>\n",
       "      <td>0.499361</td>\n",
       "      <td>-0.246761</td>\n",
       "      <td>0.651583</td>\n",
       "      <td>0.069539</td>\n",
       "      <td>-0.736727</td>\n",
       "      <td>...</td>\n",
       "      <td>-0.246914</td>\n",
       "      <td>-0.633753</td>\n",
       "      <td>-0.120794</td>\n",
       "      <td>-0.385050</td>\n",
       "      <td>-0.069733</td>\n",
       "      <td>0.094199</td>\n",
       "      <td>0.246219</td>\n",
       "      <td>0.083076</td>\n",
       "      <td>-0.395806</td>\n",
       "      <td>0</td>\n",
       "    </tr>\n",
       "    <tr>\n",
       "      <th>10</th>\n",
       "      <td>10.0</td>\n",
       "      <td>1.449044</td>\n",
       "      <td>-1.176339</td>\n",
       "      <td>0.913860</td>\n",
       "      <td>-1.375667</td>\n",
       "      <td>-1.971383</td>\n",
       "      <td>-0.629152</td>\n",
       "      <td>-1.423236</td>\n",
       "      <td>0.048456</td>\n",
       "      <td>-1.720408</td>\n",
       "      <td>...</td>\n",
       "      <td>-0.009302</td>\n",
       "      <td>0.313894</td>\n",
       "      <td>0.027740</td>\n",
       "      <td>0.500512</td>\n",
       "      <td>0.251367</td>\n",
       "      <td>-0.129478</td>\n",
       "      <td>0.042850</td>\n",
       "      <td>0.016253</td>\n",
       "      <td>-0.375123</td>\n",
       "      <td>0</td>\n",
       "    </tr>\n",
       "  </tbody>\n",
       "</table>\n",
       "<p>5 rows × 31 columns</p>\n",
       "</div>"
      ],
      "text/plain": [
       "    Time        V1        V2        V3        V4        V5        V6  \\\n",
       "1    0.0  1.191857  0.266151  0.166480  0.448154  0.060018 -0.082361   \n",
       "5    2.0 -0.425966  0.960523  1.141109 -0.168252  0.420987 -0.029728   \n",
       "6    4.0  1.229658  0.141004  0.045371  1.202613  0.191881  0.272708   \n",
       "9    9.0 -0.338262  1.119593  1.044367 -0.222187  0.499361 -0.246761   \n",
       "10  10.0  1.449044 -1.176339  0.913860 -1.375667 -1.971383 -0.629152   \n",
       "\n",
       "          V7        V8        V9  ...       V21       V22       V23       V24  \\\n",
       "1  -0.078803  0.085102 -0.255425  ... -0.225775 -0.638672  0.101288 -0.339846   \n",
       "5   0.476201  0.260314 -0.568671  ... -0.208254 -0.559825 -0.026398 -0.371427   \n",
       "6  -0.005159  0.081213  0.464960  ... -0.167716 -0.270710 -0.154104 -0.780055   \n",
       "9   0.651583  0.069539 -0.736727  ... -0.246914 -0.633753 -0.120794 -0.385050   \n",
       "10 -1.423236  0.048456 -1.720408  ... -0.009302  0.313894  0.027740  0.500512   \n",
       "\n",
       "         V25       V26       V27       V28    Amount  Class  \n",
       "1   0.167170  0.125895 -0.008983  0.014724 -0.400776      0  \n",
       "5  -0.232794  0.105915  0.253844  0.081080 -0.395856      0  \n",
       "6   0.750137 -0.257237  0.034507  0.005168 -0.389230      0  \n",
       "9  -0.069733  0.094199  0.246219  0.083076 -0.395806      0  \n",
       "10  0.251367 -0.129478  0.042850  0.016253 -0.375123      0  \n",
       "\n",
       "[5 rows x 31 columns]"
      ]
     },
     "execution_count": 19,
     "metadata": {},
     "output_type": "execute_result"
    }
   ],
   "source": [
    "cc_cleaned = cc4.copy()\n",
    "cc_cleaned.head()"
   ]
  },
  {
   "cell_type": "raw",
   "id": "c2e2a7a1",
   "metadata": {},
   "source": [
    "#_Duplicatedd records removed"
   ]
  },
  {
   "cell_type": "markdown",
   "id": "aae09215",
   "metadata": {},
   "source": [
    "### Feature Selection\n",
    "\n",
    "#### 1. Feature Importance"
   ]
  },
  {
   "cell_type": "code",
   "execution_count": 20,
   "id": "947fc798",
   "metadata": {},
   "outputs": [],
   "source": [
    "target = cc_cleaned['Class']\n",
    "variables = cc_cleaned.drop('Class', axis = 1)\n",
    "\n",
    "from sklearn.ensemble import ExtraTreesClassifier\n",
    "e = ExtraTreesClassifier()\n",
    "efit = e.fit(variables,target)\n",
    "importance = efit.feature_importances_"
   ]
  },
  {
   "cell_type": "code",
   "execution_count": 21,
   "id": "309936af",
   "metadata": {},
   "outputs": [
    {
     "data": {
      "text/plain": [
       "<BarContainer object of 30 artists>"
      ]
     },
     "execution_count": 21,
     "metadata": {},
     "output_type": "execute_result"
    },
    {
     "data": {
      "image/png": "[encoded data removed]",
      "text/plain": [
       "<Figure size 432x288 with 1 Axes>"
      ]
     },
     "metadata": {
      "needs_background": "light"
     },
     "output_type": "display_data"
    }
   ],
   "source": [
    "plt.barh(variables.columns, importance)"
   ]
  },
  {
   "cell_type": "raw",
   "id": "b1643b84",
   "metadata": {},
   "source": [
    "#_Threshold = 0.02\n",
    "#_For extracting features, k set to 11"
   ]
  },
  {
   "cell_type": "markdown",
   "id": "33d7630b",
   "metadata": {},
   "source": [
    "#### 2. Extracting relevant Features"
   ]
  },
  {
   "cell_type": "code",
   "execution_count": 22,
   "id": "68685887",
   "metadata": {},
   "outputs": [
    {
     "data": {
      "text/plain": [
       "array([3.40496195e+01, 1.55516861e+03, 1.45987435e+03, 6.38787731e+03,\n",
       "       3.19332812e+03, 1.44012319e+03, 4.15406630e+02, 5.69912286e+03,\n",
       "       4.38661034e+02, 1.46029684e+03, 8.11175304e+03, 4.29292814e+03,\n",
       "       1.27298266e+04, 7.59637762e+00, 1.87972141e+04, 2.35058578e+00,\n",
       "       6.20850963e+03, 1.84870353e+04, 1.66845048e+03, 1.60822046e+02,\n",
       "       1.08571290e+02, 2.63599179e+02, 1.24509178e+00, 2.18043413e+01,\n",
       "       1.14948548e+01, 7.22595221e+00, 2.07828653e+00, 2.26933277e+02,\n",
       "       3.79795613e+01, 2.42005460e+01])"
      ]
     },
     "execution_count": 22,
     "metadata": {},
     "output_type": "execute_result"
    }
   ],
   "source": [
    "from sklearn.feature_selection import SelectKBest, f_classif\n",
    "s = SelectKBest(score_func=f_classif, k=11)\n",
    "feat_selected = s.fit(variables, target)\n",
    "feat_selected.scores_"
   ]
  },
  {
   "cell_type": "code",
   "execution_count": 23,
   "id": "126e19bc",
   "metadata": {},
   "outputs": [
    {
     "data": {
      "text/html": [
       "<div>\n",
       "<style scoped>\n",
       "    .dataframe tbody tr th:only-of-type {\n",
       "        vertical-align: middle;\n",
       "    }\n",
       "\n",
       "    .dataframe tbody tr th {\n",
       "        vertical-align: top;\n",
       "    }\n",
       "\n",
       "    .dataframe thead th {\n",
       "        text-align: right;\n",
       "    }\n",
       "</style>\n",
       "<table border=\"1\" class=\"dataframe\">\n",
       "  <thead>\n",
       "    <tr style=\"text-align: right;\">\n",
       "      <th></th>\n",
       "      <th>V1</th>\n",
       "      <th>V3</th>\n",
       "      <th>V4</th>\n",
       "      <th>V7</th>\n",
       "      <th>V10</th>\n",
       "      <th>V11</th>\n",
       "      <th>V12</th>\n",
       "      <th>V14</th>\n",
       "      <th>V16</th>\n",
       "      <th>V17</th>\n",
       "      <th>V18</th>\n",
       "    </tr>\n",
       "  </thead>\n",
       "  <tbody>\n",
       "    <tr>\n",
       "      <th>1</th>\n",
       "      <td>1.191857</td>\n",
       "      <td>0.166480</td>\n",
       "      <td>0.448154</td>\n",
       "      <td>-0.078803</td>\n",
       "      <td>-0.166974</td>\n",
       "      <td>1.612727</td>\n",
       "      <td>1.065235</td>\n",
       "      <td>-0.143772</td>\n",
       "      <td>0.463917</td>\n",
       "      <td>-0.114805</td>\n",
       "      <td>-0.183361</td>\n",
       "    </tr>\n",
       "    <tr>\n",
       "      <th>5</th>\n",
       "      <td>-0.425966</td>\n",
       "      <td>1.141109</td>\n",
       "      <td>-0.168252</td>\n",
       "      <td>0.476201</td>\n",
       "      <td>-0.371407</td>\n",
       "      <td>1.341262</td>\n",
       "      <td>0.359894</td>\n",
       "      <td>-0.137134</td>\n",
       "      <td>0.401726</td>\n",
       "      <td>-0.058133</td>\n",
       "      <td>0.068653</td>\n",
       "    </tr>\n",
       "    <tr>\n",
       "      <th>6</th>\n",
       "      <td>1.229658</td>\n",
       "      <td>0.045371</td>\n",
       "      <td>1.202613</td>\n",
       "      <td>-0.005159</td>\n",
       "      <td>-0.099254</td>\n",
       "      <td>-1.416907</td>\n",
       "      <td>-0.153826</td>\n",
       "      <td>0.167372</td>\n",
       "      <td>-0.443587</td>\n",
       "      <td>0.002821</td>\n",
       "      <td>-0.611987</td>\n",
       "    </tr>\n",
       "    <tr>\n",
       "      <th>9</th>\n",
       "      <td>-0.338262</td>\n",
       "      <td>1.044367</td>\n",
       "      <td>-0.222187</td>\n",
       "      <td>0.651583</td>\n",
       "      <td>-0.366846</td>\n",
       "      <td>1.017614</td>\n",
       "      <td>0.836390</td>\n",
       "      <td>-0.443523</td>\n",
       "      <td>0.739453</td>\n",
       "      <td>-0.540980</td>\n",
       "      <td>0.476677</td>\n",
       "    </tr>\n",
       "    <tr>\n",
       "      <th>10</th>\n",
       "      <td>1.449044</td>\n",
       "      <td>0.913860</td>\n",
       "      <td>-1.375667</td>\n",
       "      <td>-1.423236</td>\n",
       "      <td>1.626659</td>\n",
       "      <td>1.199644</td>\n",
       "      <td>-0.671440</td>\n",
       "      <td>-0.095045</td>\n",
       "      <td>0.031967</td>\n",
       "      <td>0.253415</td>\n",
       "      <td>0.854344</td>\n",
       "    </tr>\n",
       "  </tbody>\n",
       "</table>\n",
       "</div>"
      ],
      "text/plain": [
       "          V1        V3        V4        V7       V10       V11       V12  \\\n",
       "1   1.191857  0.166480  0.448154 -0.078803 -0.166974  1.612727  1.065235   \n",
       "5  -0.425966  1.141109 -0.168252  0.476201 -0.371407  1.341262  0.359894   \n",
       "6   1.229658  0.045371  1.202613 -0.005159 -0.099254 -1.416907 -0.153826   \n",
       "9  -0.338262  1.044367 -0.222187  0.651583 -0.366846  1.017614  0.836390   \n",
       "10  1.449044  0.913860 -1.375667 -1.423236  1.626659  1.199644 -0.671440   \n",
       "\n",
       "         V14       V16       V17       V18  \n",
       "1  -0.143772  0.463917 -0.114805 -0.183361  \n",
       "5  -0.137134  0.401726 -0.058133  0.068653  \n",
       "6   0.167372 -0.443587  0.002821 -0.611987  \n",
       "9  -0.443523  0.739453 -0.540980  0.476677  \n",
       "10 -0.095045  0.031967  0.253415  0.854344  "
      ]
     },
     "execution_count": 23,
     "metadata": {},
     "output_type": "execute_result"
    }
   ],
   "source": [
    "impfeat = s.get_support()\n",
    "cc_impfeat = variables[variables.columns[impfeat]]\n",
    "cc_impfeat.head()"
   ]
  },
  {
   "cell_type": "markdown",
   "id": "751a2b85",
   "metadata": {},
   "source": [
    "### Prepared Data"
   ]
  },
  {
   "cell_type": "code",
   "execution_count": 24,
   "id": "671ec7ad",
   "metadata": {},
   "outputs": [],
   "source": [
    "X = cc_impfeat.copy()\n",
    "Y = target.copy()"
   ]
  },
  {
   "cell_type": "markdown",
   "id": "529698e1",
   "metadata": {},
   "source": [
    "## Balancing the Target \n",
    "### Undersampling"
   ]
  },
  {
   "cell_type": "code",
   "execution_count": 25,
   "id": "aaeb2052",
   "metadata": {},
   "outputs": [
    {
     "name": "stdout",
     "output_type": "stream",
     "text": [
      "Input Shape: (768, 11) \n",
      "Target Shape: (768,)\n"
     ]
    },
    {
     "name": "stderr",
     "output_type": "stream",
     "text": [
      "C:\\Users\\Kanchan\\anaconda3\\envs\\cc_fraud\\lib\\site-packages\\seaborn\\_decorators.py:36: FutureWarning: Pass the following variable as a keyword arg: x. From version 0.12, the only valid positional argument will be `data`, and passing other arguments without an explicit keyword will result in an error or misinterpretation.\n",
      "  warnings.warn(\n"
     ]
    },
    {
     "data": {
      "image/png": "[encoded data removed]",
      "text/plain": [
       "<Figure size 432x288 with 1 Axes>"
      ]
     },
     "metadata": {
      "needs_background": "light"
     },
     "output_type": "display_data"
    }
   ],
   "source": [
    "from imblearn.under_sampling import NearMiss\n",
    "\n",
    "nm = NearMiss()\n",
    "X_res, y_res = nm.fit_resample(X,Y)\n",
    "sns.countplot(y_res)\n",
    "print(\"Input Shape:\",X_res.shape, \"\\nTarget Shape:\", y_res.shape)"
   ]
  },
  {
   "cell_type": "markdown",
   "id": "dcb125ab",
   "metadata": {},
   "source": [
    "## Train-Test Split"
   ]
  },
  {
   "cell_type": "code",
   "execution_count": 26,
   "id": "8d249059",
   "metadata": {},
   "outputs": [],
   "source": [
    "from sklearn.model_selection import train_test_split\n",
    "\n",
    "X_train, X_test, y_train, y_test = train_test_split(X_res, y_res, random_state=42, train_size=0.5)"
   ]
  },
  {
   "cell_type": "markdown",
   "id": "be1055a1",
   "metadata": {},
   "source": [
    "## Model Selection"
   ]
  },
  {
   "cell_type": "code",
   "execution_count": 27,
   "id": "f45a00a7",
   "metadata": {},
   "outputs": [],
   "source": [
    "from sklearn.model_selection import StratifiedKFold, cross_val_score, GridSearchCV, RandomizedSearchCV\n",
    "from sklearn.svm import SVC\n",
    "from sklearn.neighbors import KNeighborsClassifier\n",
    "from sklearn.linear_model import LogisticRegression\n",
    "from sklearn.naive_bayes import GaussianNB\n",
    "from sklearn.tree import DecisionTreeClassifier\n",
    "from sklearn.ensemble import RandomForestClassifier\n",
    "from sklearn.metrics import accuracy_score\n",
    "\n",
    "sv = SVC(random_state=42)\n",
    "knn = KNeighborsClassifier()\n",
    "lr = LogisticRegression(random_state=42)\n",
    "g = GaussianNB()\n",
    "dt = DecisionTreeClassifier(random_state=42)\n",
    "rf = RandomForestClassifier(random_state=42)\n",
    "model = [sv, knn, lr, g, dt, rf]\n",
    "\n",
    "\n",
    "kf = StratifiedKFold(n_splits=10, random_state=42, shuffle=True)"
   ]
  },
  {
   "cell_type": "code",
   "execution_count": 28,
   "id": "9058ac61",
   "metadata": {},
   "outputs": [
    {
     "data": {
      "text/plain": [
       "[0.9271189336978811,\n",
       " 0.9453520164046478,\n",
       " 0.9283834586466166,\n",
       " 0.9622693096377306,\n",
       " 0.9322453861927548,\n",
       " 0.9687628161312372]"
      ]
     },
     "execution_count": 28,
     "metadata": {},
     "output_type": "execute_result"
    }
   ],
   "source": [
    "scores = []\n",
    "for i in model:\n",
    "    s = cross_val_score(i, X_res, y_res, cv = kf, n_jobs=-1)\n",
    "    m = s.mean()\n",
    "    scores.append(m)\n",
    "scores"
   ]
  },
  {
   "cell_type": "code",
   "execution_count": 29,
   "id": "90846d31",
   "metadata": {},
   "outputs": [
    {
     "data": {
      "text/plain": [
       "<BarContainer object of 6 artists>"
      ]
     },
     "execution_count": 29,
     "metadata": {},
     "output_type": "execute_result"
    },
    {
     "data": {
      "image/png": "[encoded data removed]",
      "text/plain": [
       "<Figure size 432x288 with 1 Axes>"
      ]
     },
     "metadata": {
      "needs_background": "light"
     },
     "output_type": "display_data"
    }
   ],
   "source": [
    "plt.barh(['sv', 'knn', 'lr', 'g', 'dt', 'rf'],scores)"
   ]
  },
  {
   "cell_type": "raw",
   "id": "debc1549",
   "metadata": {},
   "source": [
    "#_The top 3 Model wrt Accuracy: Gaussian, RandomForest, DecisionTree \n",
    "#_Comparing these 3 with their f1-score and Precision"
   ]
  },
  {
   "cell_type": "markdown",
   "id": "914a760c",
   "metadata": {},
   "source": [
    "#### 1. RandomForest"
   ]
  },
  {
   "cell_type": "code",
   "execution_count": 30,
   "id": "6b47ede0",
   "metadata": {},
   "outputs": [
    {
     "name": "stdout",
     "output_type": "stream",
     "text": [
      "F1 Score: 0.9444444444444444 \n",
      "Precision: 0.9497206703910615\n"
     ]
    }
   ],
   "source": [
    "from sklearn.metrics import f1_score, precision_score, recall_score, roc_auc_score\n",
    "rffit = rf.fit(X_train,y_train)\n",
    "rfpred = rf.predict(X_test)\n",
    "print(\"F1 Score:\",f1_score(y_test, rfpred), \"\\nPrecision:\",precision_score(y_test, rfpred))"
   ]
  },
  {
   "cell_type": "markdown",
   "id": "008ccd30",
   "metadata": {},
   "source": [
    "#### 2. Gaussian"
   ]
  },
  {
   "cell_type": "code",
   "execution_count": 31,
   "id": "998aa331",
   "metadata": {},
   "outputs": [
    {
     "name": "stdout",
     "output_type": "stream",
     "text": [
      "F1 Score: 0.9545454545454546 \n",
      "Precision: 0.9824561403508771\n"
     ]
    }
   ],
   "source": [
    "gfit = g.fit(X_train,y_train)\n",
    "gpred = g.predict(X_test)\n",
    "print(\"F1 Score:\",f1_score(y_test, gpred), \"\\nPrecision:\",precision_score(y_test, gpred))"
   ]
  },
  {
   "cell_type": "markdown",
   "id": "874dfba5",
   "metadata": {},
   "source": [
    "#### 3. Decision Tree"
   ]
  },
  {
   "cell_type": "code",
   "execution_count": 32,
   "id": "61981feb",
   "metadata": {},
   "outputs": [
    {
     "name": "stdout",
     "output_type": "stream",
     "text": [
      "F1 Score: 0.9080779944289694 \n",
      "Precision: 0.9157303370786517\n"
     ]
    }
   ],
   "source": [
    "dtfit = dt.fit(X_train,y_train)\n",
    "dtpred = dt.predict(X_test)\n",
    "print(\"F1 Score:\",f1_score(y_test, dtpred), \"\\nPrecision:\",precision_score(y_test, dtpred))"
   ]
  },
  {
   "cell_type": "raw",
   "id": "1177de0b",
   "metadata": {},
   "source": [
    "#_Selecting Model: GaussianNB()"
   ]
  },
  {
   "cell_type": "markdown",
   "id": "81bf792f",
   "metadata": {},
   "source": [
    "## Initial Model\n",
    "\n",
    "### Modeling \n",
    "\n",
    "#__init()__ = g\n",
    "\n",
    "#__fit___ = gfit\n",
    "\n",
    "#__predicted__ = gpred"
   ]
  },
  {
   "cell_type": "markdown",
   "id": "832b4e62",
   "metadata": {},
   "source": [
    "### Model Evaluation"
   ]
  },
  {
   "cell_type": "code",
   "execution_count": 33,
   "id": "51d7cfab",
   "metadata": {},
   "outputs": [
    {
     "name": "stdout",
     "output_type": "stream",
     "text": [
      "Training Accuracy: 0.96875 \n",
      "Test Accuracy: 0.9583333333333334\n"
     ]
    }
   ],
   "source": [
    "#__init()__ = g\n",
    "#__fit__ = gfit\n",
    "#__predicted__ = gpred\n",
    "\n",
    "print(\"Training Accuracy:\",gfit.score(X_train,y_train),\"\\nTest Accuracy:\",gfit.score(X_test,y_test))"
   ]
  },
  {
   "cell_type": "raw",
   "id": "ad44866f",
   "metadata": {},
   "source": [
    "#_There's No extreme fitting"
   ]
  },
  {
   "cell_type": "code",
   "execution_count": 34,
   "id": "4c9baa0e",
   "metadata": {},
   "outputs": [
    {
     "data": {
      "text/html": [
       "<div>\n",
       "<style scoped>\n",
       "    .dataframe tbody tr th:only-of-type {\n",
       "        vertical-align: middle;\n",
       "    }\n",
       "\n",
       "    .dataframe tbody tr th {\n",
       "        vertical-align: top;\n",
       "    }\n",
       "\n",
       "    .dataframe thead th {\n",
       "        text-align: right;\n",
       "    }\n",
       "</style>\n",
       "<table border=\"1\" class=\"dataframe\">\n",
       "  <thead>\n",
       "    <tr style=\"text-align: right;\">\n",
       "      <th></th>\n",
       "      <th>Pred0</th>\n",
       "      <th>Pred1</th>\n",
       "    </tr>\n",
       "  </thead>\n",
       "  <tbody>\n",
       "    <tr>\n",
       "      <th>0</th>\n",
       "      <td>200</td>\n",
       "      <td>3</td>\n",
       "    </tr>\n",
       "    <tr>\n",
       "      <th>1</th>\n",
       "      <td>13</td>\n",
       "      <td>168</td>\n",
       "    </tr>\n",
       "  </tbody>\n",
       "</table>\n",
       "</div>"
      ],
      "text/plain": [
       "   Pred0  Pred1\n",
       "0    200      3\n",
       "1     13    168"
      ]
     },
     "execution_count": 34,
     "metadata": {},
     "output_type": "execute_result"
    }
   ],
   "source": [
    "#Confusion Matrix\n",
    "from sklearn.metrics import confusion_matrix\n",
    "\n",
    "pd.DataFrame(confusion_matrix(y_test,gpred), columns=['Pred0','Pred1'])"
   ]
  },
  {
   "cell_type": "raw",
   "id": "ac58c89f",
   "metadata": {},
   "source": [
    "#_Main Focus = False Negative = 13\n",
    "#_Hence, checking Recall"
   ]
  },
  {
   "cell_type": "code",
   "execution_count": 35,
   "id": "05a0679c",
   "metadata": {},
   "outputs": [
    {
     "data": {
      "text/plain": [
       "0.9281767955801105"
      ]
     },
     "execution_count": 35,
     "metadata": {},
     "output_type": "execute_result"
    }
   ],
   "source": [
    "recall_score(y_test,gpred)"
   ]
  },
  {
   "cell_type": "raw",
   "id": "4c99e55a",
   "metadata": {},
   "source": [
    "#_Hyperparam tuning aim: Reduce False -ve to improve Recall"
   ]
  },
  {
   "cell_type": "markdown",
   "id": "e419bc19",
   "metadata": {},
   "source": [
    "## Hyper-param Tuning"
   ]
  },
  {
   "cell_type": "code",
   "execution_count": 47,
   "id": "bd98d76e",
   "metadata": {},
   "outputs": [
    {
     "name": "stdout",
     "output_type": "stream",
     "text": [
      "Best Hyperparameter setting: {'var_smoothing': 0.0005336699231206307}\n",
      "Tuned Recall Score: 0.9459523809523809\n"
     ]
    }
   ],
   "source": [
    "#__init()__ = g\n",
    "#__fit__ = gfit\n",
    "#__predicted__ = gpred\n",
    "\n",
    "grid_param = {'var_smoothing': np.logspace(0,-9,100)}\n",
    "grid_model = GridSearchCV(estimator=g, param_grid=grid_param, scoring='recall', cv=10)\n",
    "grid_fit = grid_model.fit(X_train,y_train)\n",
    "best_model = grid_model.best_estimator_\n",
    "print(\"Best Hyperparameter setting:\",grid_model.best_params_)\n",
    "print(\"Tuned Recall Score:\", grid_model.best_score_)"
   ]
  },
  {
   "cell_type": "raw",
   "id": "be8aea38",
   "metadata": {},
   "source": [
    "#_Recall increased to 94.5%"
   ]
  },
  {
   "cell_type": "code",
   "execution_count": 37,
   "id": "3682cf3f",
   "metadata": {},
   "outputs": [
    {
     "data": {
      "text/plain": [
       "array([[200,   3],\n",
       "       [ 14, 167]], dtype=int64)"
      ]
     },
     "execution_count": 37,
     "metadata": {},
     "output_type": "execute_result"
    }
   ],
   "source": [
    "grid_pred = best_model.predict(X_test)\n",
    "confusion_matrix(y_test,grid_pred)"
   ]
  },
  {
   "cell_type": "raw",
   "id": "bca021a0",
   "metadata": {},
   "source": [
    "#_False negatives increased\n",
    "#_Managing the threshold to reduce false negatives"
   ]
  },
  {
   "cell_type": "code",
   "execution_count": 38,
   "id": "f14ac649",
   "metadata": {},
   "outputs": [],
   "source": [
    "#Defining function to reduce prob threshold to 0.02\n",
    "def thresh(d):\n",
    "    vals = []\n",
    "    for i in d:\n",
    "        if i > 0.002:\n",
    "            vals.append(1)\n",
    "        else:\n",
    "            vals.append(0)\n",
    "    return vals"
   ]
  },
  {
   "cell_type": "code",
   "execution_count": 39,
   "id": "0f3066cb",
   "metadata": {},
   "outputs": [
    {
     "data": {
      "text/plain": [
       "array([[196,   7],\n",
       "       [ 10, 171]], dtype=int64)"
      ]
     },
     "execution_count": 39,
     "metadata": {},
     "output_type": "execute_result"
    }
   ],
   "source": [
    "#Tuned Predicted values\n",
    "\n",
    "grid_prob = best_model.predict_proba(X_test)\n",
    "positive_prob = grid_prob[:,1]\n",
    "y_pred = thresh(positive_prob)\n",
    "    \n",
    "confusion_matrix(y_test,y_pred)"
   ]
  },
  {
   "cell_type": "raw",
   "id": "df4de6af",
   "metadata": {},
   "source": [
    "#_Model optimized\n",
    "#_False Negatives Reduced"
   ]
  },
  {
   "cell_type": "markdown",
   "id": "1fa69aa0",
   "metadata": {},
   "source": [
    "## Final Prediction"
   ]
  },
  {
   "cell_type": "code",
   "execution_count": 40,
   "id": "be077131",
   "metadata": {},
   "outputs": [
    {
     "data": {
      "text/plain": [
       "([<matplotlib.patches.Wedge at 0x2a022898>,\n",
       "  <matplotlib.patches.Wedge at 0x2a0225e0>],\n",
       " [Text(-0.09885925800738044, 1.0955486511817858, 'Not Fraud'),\n",
       "  Text(0.09885915543471273, -1.0955486604376528, 'Fraud')])"
      ]
     },
     "execution_count": 40,
     "metadata": {},
     "output_type": "execute_result"
    },
    {
     "data": {
      "image/png": "[encoded data removed]",
      "text/plain": [
       "<Figure size 432x288 with 1 Axes>"
      ]
     },
     "metadata": {},
     "output_type": "display_data"
    }
   ],
   "source": [
    "# Vizualizing Y_test\n",
    "values = y_test.value_counts()\n",
    "labels = ['Not Fraud','Fraud']\n",
    "plt.pie(values,labels=labels)"
   ]
  },
  {
   "cell_type": "code",
   "execution_count": 41,
   "id": "2254657e",
   "metadata": {},
   "outputs": [
    {
     "data": {
      "text/plain": [
       "([<matplotlib.patches.Wedge at 0x26fcccb8>,\n",
       "  <matplotlib.patches.Wedge at 0x26fccf58>],\n",
       " [Text(-0.12571559325378193, 1.0927925647682866, 'Not Fraud'),\n",
       "  Text(0.12571549093915754, -1.092792576538625, 'Fraud')])"
      ]
     },
     "execution_count": 41,
     "metadata": {},
     "output_type": "execute_result"
    },
    {
     "data": {
      "image/png": "[encoded data removed]",
      "text/plain": [
       "<Figure size 432x288 with 1 Axes>"
      ]
     },
     "metadata": {},
     "output_type": "display_data"
    }
   ],
   "source": [
    "# Vizualizing Tuned Predicted Values\n",
    "# y_pred\n",
    "\n",
    "values1 = pd.DataFrame(y_pred).value_counts()\n",
    "labels1 = ['Not Fraud','Fraud']\n",
    "plt.pie(values1,labels=labels1)"
   ]
  },
  {
   "cell_type": "code",
   "execution_count": 45,
   "id": "8da1c64f",
   "metadata": {},
   "outputs": [
    {
     "name": "stdout",
     "output_type": "stream",
     "text": [
      "Recall: 0.9447513812154696\n",
      "Precision: 0.9606741573033708\n",
      "F1: 0.9526462395543176\n",
      "Train Score 0.96875\n",
      "Test Score/Accuracy 0.9557291666666666\n"
     ]
    }
   ],
   "source": [
    "#Model Metrics\n",
    "\n",
    "print(\"Recall:\",recall_score(y_test,y_pred))\n",
    "print(\"Precision:\",precision_score(y_test,y_pred))\n",
    "print(\"F1:\",f1_score(y_test,y_pred))\n",
    "print(\"Train Score\", best_model.fit(X_train,y_train).score(X_train,y_train))\n",
    "print(\"Test Score/Accuracy\", best_model.fit(X_train,y_train).score(X_test,y_test))"
   ]
  },
  {
   "cell_type": "code",
   "execution_count": 43,
   "id": "50780c70",
   "metadata": {},
   "outputs": [
    {
     "data": {
      "image/png": "[encoded data removed]",
      "text/plain": [
       "<Figure size 432x288 with 1 Axes>"
      ]
     },
     "metadata": {
      "needs_background": "light"
     },
     "output_type": "display_data"
    },
    {
     "name": "stdout",
     "output_type": "stream",
     "text": [
      "Area Under Curve: 0.9835070625697412\n"
     ]
    }
   ],
   "source": [
    "# ROC Curve and AUC\n",
    "\n",
    "import scikitplot as skplt\n",
    "\n",
    "skplt.metrics.plot_roc(y_test,best_model.predict_proba(X_test))\n",
    "plt.show()\n",
    "print(\"Area Under Curve:\",roc_auc_score(y_test,positive_prob))"
   ]
  },
  {
   "cell_type": "raw",
   "id": "632b2de8",
   "metadata": {},
   "source": [
    "#________________________________________________________END OF CODE________________________________________________________#"
   ]
  },
  {
   "cell_type": "raw",
   "id": "3cc623af",
   "metadata": {},
   "source": [
    "# Result\n",
    "\n",
    "1. model = best_model\n",
    "2. model score/accuracy = 95.57%\n",
    "2. predictions = y_pred\n",
    "3. recall = 94.47%\n",
    "5. AUC = 98.35%"
   ]
  }
 ],
 "metadata": {
  "kernelspec": {
   "display_name": "Python 3 (ipykernel)",
   "language": "python",
   "name": "python3"
  },
  "language_info": {
   "codemirror_mode": {
    "name": "ipython",
    "version": 3
   },
   "file_extension": ".py",
   "mimetype": "text/x-python",
   "name": "python",
   "nbconvert_exporter": "python",
   "pygments_lexer": "ipython3",
   "version": "3.9.6"
  }
 },
 "nbformat": 4,
 "nbformat_minor": 5
}
